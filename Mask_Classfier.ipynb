{
  "nbformat": 4,
  "nbformat_minor": 0,
  "metadata": {
    "accelerator": "GPU",
    "colab": {
      "name": "Mask_Classfier.ipynb",
      "provenance": [],
      "collapsed_sections": [],
      "machine_shape": "hm",
      "mount_file_id": "1hChlHYBfnJ9gHw_WWTDMhwVd0Vd0Ywrk",
      "authorship_tag": "ABX9TyMXGOV9XFg4Ng4oRUbmcfh+",
      "include_colab_link": true
    },
    "kernelspec": {
      "display_name": "Python 3",
      "name": "python3"
    },
    "language_info": {
      "name": "python"
    }
  },
  "cells": [
    {
      "cell_type": "markdown",
      "metadata": {
        "id": "view-in-github",
        "colab_type": "text"
      },
      "source": [
        "<a href=\"https://colab.research.google.com/github/skaurl/P4-Model-Optimization/blob/main/Mask_Classfier.ipynb\" target=\"_parent\"><img src=\"https://colab.research.google.com/assets/colab-badge.svg\" alt=\"Open In Colab\"/></a>"
      ]
    },
    {
      "cell_type": "code",
      "metadata": {
        "colab": {
          "base_uri": "https://localhost:8080/"
        },
        "id": "VrG1l1Op6a5a",
        "outputId": "5a4f8373-8064-4856-841c-45acaca67dab"
      },
      "source": [
        "!pip install -q tflite-model-maker"
      ],
      "execution_count": 1,
      "outputs": [
        {
          "output_type": "stream",
          "text": [
            "\u001b[K     |████████████████████████████████| 593kB 7.7MB/s \n",
            "\u001b[K     |████████████████████████████████| 1.1MB 15.7MB/s \n",
            "\u001b[K     |████████████████████████████████| 849kB 37.0MB/s \n",
            "\u001b[K     |████████████████████████████████| 122kB 44.2MB/s \n",
            "\u001b[K     |████████████████████████████████| 645kB 46.7MB/s \n",
            "\u001b[K     |████████████████████████████████| 71kB 7.2MB/s \n",
            "\u001b[K     |████████████████████████████████| 1.2MB 42.9MB/s \n",
            "\u001b[K     |████████████████████████████████| 92kB 10.4MB/s \n",
            "\u001b[K     |████████████████████████████████| 112kB 40.4MB/s \n",
            "\u001b[K     |████████████████████████████████| 686kB 40.6MB/s \n",
            "\u001b[K     |████████████████████████████████| 174kB 46.4MB/s \n",
            "\u001b[K     |████████████████████████████████| 6.3MB 44.1MB/s \n",
            "\u001b[K     |████████████████████████████████| 194kB 36.9MB/s \n",
            "\u001b[K     |████████████████████████████████| 358kB 38.6MB/s \n",
            "\u001b[K     |████████████████████████████████| 102kB 10.6MB/s \n",
            "\u001b[K     |████████████████████████████████| 38.2MB 141kB/s \n",
            "\u001b[?25h  Building wheel for fire (setup.py) ... \u001b[?25l\u001b[?25hdone\n",
            "  Building wheel for py-cpuinfo (setup.py) ... \u001b[?25l\u001b[?25hdone\n"
          ],
          "name": "stdout"
        }
      ]
    },
    {
      "cell_type": "code",
      "metadata": {
        "id": "vepxGJLkkv6i"
      },
      "source": [
        "import tarfile\n",
        "\n",
        "f = tarfile.open('/content/drive/MyDrive/한양대학교/부스트캠프 AI Tech/[P4] 모델 최적화/train.tar.gz')\n",
        "f.extractall()\n",
        "f.close()"
      ],
      "execution_count": 2,
      "outputs": []
    },
    {
      "cell_type": "code",
      "metadata": {
        "id": "ejAleFETKCT0"
      },
      "source": [
        "!find . -type f -name '._*' -delete"
      ],
      "execution_count": 3,
      "outputs": []
    },
    {
      "cell_type": "code",
      "metadata": {
        "id": "toxb2keR6igo"
      },
      "source": [
        "import os\n",
        "\n",
        "import pandas as pd\n",
        "import numpy as np\n",
        "\n",
        "from tqdm import tqdm\n",
        "from glob import glob\n",
        "import shutil\n",
        "import cv2\n",
        "from google.colab.patches import cv2_imshow\n",
        "from sklearn.model_selection import train_test_split\n",
        "\n",
        "import tensorflow as tf\n",
        "assert tf.__version__.startswith('2')\n",
        "\n",
        "from tflite_model_maker import model_spec\n",
        "from tflite_model_maker import image_classifier\n",
        "from tflite_model_maker.config import ExportFormat\n",
        "from tflite_model_maker.config import QuantizationConfig\n",
        "from tflite_model_maker.image_classifier import DataLoader\n",
        "\n",
        "import matplotlib.pyplot as plt"
      ],
      "execution_count": 4,
      "outputs": []
    },
    {
      "cell_type": "code",
      "metadata": {
        "id": "BxHQUfkK6B1l"
      },
      "source": [
        "os.makedirs('/content/train_dataset')\n",
        "os.makedirs('/content/train_dataset/mask')\n",
        "os.makedirs('/content/train_dataset/no_mask')\n",
        "os.makedirs('/content/train_dataset/background')\n",
        "\n",
        "os.makedirs('/content/val_dataset')\n",
        "os.makedirs('/content/val_dataset/mask')\n",
        "os.makedirs('/content/val_dataset/no_mask')\n",
        "os.makedirs('/content/val_dataset/background')"
      ],
      "execution_count": 5,
      "outputs": []
    },
    {
      "cell_type": "code",
      "metadata": {
        "id": "peRYYSDlaiwg"
      },
      "source": [
        "img_info = pd.read_csv('/content/train/train.csv')\n",
        "\n",
        "img_info_train, img_info_val = train_test_split(img_info, test_size=0.1, random_state=42)"
      ],
      "execution_count": 6,
      "outputs": []
    },
    {
      "cell_type": "code",
      "metadata": {
        "colab": {
          "base_uri": "https://localhost:8080/"
        },
        "id": "cE5XHk8Pa1L-",
        "outputId": "b48607f3-4f50-43b6-e561-93ea751fe10e"
      },
      "source": [
        "for num in tqdm(range(len(img_info_train))):\n",
        "    for name in os.listdir('/content/train/images/'+img_info_train.iloc[num,4]):\n",
        "        original_path = '/content/train/images/'+img_info_train.iloc[num,4]+'/'+name\n",
        "        destination_path = '/content/train_dataset/'\n",
        "\n",
        "        if name[:4] == 'mask':\n",
        "            img = cv2.imread(original_path)[256-96:256+96,192-96:192+96]\n",
        "            img = cv2.resize(img,dsize=(128,128))\n",
        "            cv2.imwrite(destination_path+'mask/'+img_info_train.iloc[num,4]+'_a_'+name,img)\n",
        "            img = cv2.imread(original_path)[256-96:256+96,224-96:224+96]\n",
        "            img = cv2.resize(img,dsize=(128,128))\n",
        "            cv2.imwrite(destination_path+'mask/'+img_info_train.iloc[num,4]+'_b_'+name,img)\n",
        "            img = cv2.imread(original_path)[256-96:256+96,160-96:160+96]\n",
        "            img = cv2.resize(img,dsize=(128,128))\n",
        "            cv2.imwrite(destination_path+'mask/'+img_info_train.iloc[num,4]+'_c_'+name,img)\n",
        "        elif name[:4] == 'inco':\n",
        "            img = cv2.imread(original_path)[256-96:256+96,192-96:192+96]\n",
        "            img = cv2.resize(img,dsize=(128,128))\n",
        "            cv2.imwrite(destination_path+'no_mask/'+img_info_train.iloc[num,4]+'_a_'+name,img)\n",
        "            img = cv2.imread(original_path)[256-96:256+96,224-96:224+96]\n",
        "            img = cv2.resize(img,dsize=(128,128))\n",
        "            cv2.imwrite(destination_path+'no_mask/'+img_info_train.iloc[num,4]+'_b_'+name,img)\n",
        "            img = cv2.imread(original_path)[256-96:256+96,160-96:160+96]\n",
        "            img = cv2.resize(img,dsize=(128,128))\n",
        "            cv2.imwrite(destination_path+'no_mask/'+img_info_train.iloc[num,4]+'_c_'+name,img)\n",
        "        elif name[:4] == 'norm':\n",
        "            img = cv2.imread(original_path)[256-96:256+96,192-96:192+96]\n",
        "            img = cv2.resize(img,dsize=(128,128))\n",
        "            cv2.imwrite(destination_path+'no_mask/'+img_info_train.iloc[num,4]+'_a_'+name,img)\n",
        "            img = cv2.imread(original_path)[256-96:256+96,224-96:224+96]\n",
        "            img = cv2.resize(img,dsize=(128,128))\n",
        "            cv2.imwrite(destination_path+'no_mask/'+img_info_train.iloc[num,4]+'_b_'+name,img)\n",
        "            img = cv2.imread(original_path)[256-96:256+96,160-96:160+96]\n",
        "            img = cv2.resize(img,dsize=(128,128))\n",
        "            cv2.imwrite(destination_path+'no_mask/'+img_info_train.iloc[num,4]+'_c_'+name,img)\n",
        "            \n",
        "            img = cv2.imread(original_path)[:128,:128]\n",
        "            cv2.imwrite(destination_path+'background/'+img_info_train.iloc[num,4]+'_a_'+name,img)\n",
        "            img = cv2.imread(original_path)[256-64:256+64,:128]\n",
        "            cv2.imwrite(destination_path+'background/'+img_info_train.iloc[num,4]+'_b_'+name,img)\n",
        "            img = cv2.imread(original_path)[-128:,:128]\n",
        "            cv2.imwrite(destination_path+'background/'+img_info_train.iloc[num,4]+'_c_'+name,img)\n",
        "            img = cv2.imread(original_path)[:128,192-64:192+64]\n",
        "            cv2.imwrite(destination_path+'background/'+img_info_train.iloc[num,4]+'_d_'+name,img)\n",
        "            img = cv2.imread(original_path)[-128:,192-64:192+64]\n",
        "            cv2.imwrite(destination_path+'background/'+img_info_train.iloc[num,4]+'_e_'+name,img)\n",
        "            img = cv2.imread(original_path)[:128,-128:]\n",
        "            cv2.imwrite(destination_path+'background/'+img_info_train.iloc[num,4]+'_f_'+name,img)\n",
        "            img = cv2.imread(original_path)[256-64:256+64,-128:]\n",
        "            cv2.imwrite(destination_path+'background/'+img_info_train.iloc[num,4]+'_g_'+name,img)\n",
        "            img = cv2.imread(original_path)[-128:,-128:]\n",
        "            cv2.imwrite(destination_path+'background/'+img_info_train.iloc[num,4]+'_h_'+name,img)"
      ],
      "execution_count": 7,
      "outputs": [
        {
          "output_type": "stream",
          "text": [
            "100%|██████████| 2430/2430 [03:43<00:00, 10.88it/s]\n"
          ],
          "name": "stderr"
        }
      ]
    },
    {
      "cell_type": "code",
      "metadata": {
        "colab": {
          "base_uri": "https://localhost:8080/"
        },
        "id": "vHmJ2i0Qp5HQ",
        "outputId": "792770c3-05e2-473c-991f-b39b0b98e9d2"
      },
      "source": [
        "for num in tqdm(range(len(img_info_val))):\n",
        "    for name in os.listdir('/content/train/images/'+img_info_val.iloc[num,4]):\n",
        "        original_path = '/content/train/images/'+img_info_val.iloc[num,4]+'/'+name\n",
        "        destination_path = '/content/val_dataset/'\n",
        "\n",
        "        if name[:4] == 'mask':\n",
        "            img = cv2.imread(original_path)[256-96:256+96,192-96:192+96]\n",
        "            img = cv2.resize(img,dsize=(128,128))\n",
        "            cv2.imwrite(destination_path+'mask/'+img_info_val.iloc[num,4]+'_a_'+name,img)\n",
        "            img = cv2.imread(original_path)[256-96:256+96,224-96:224+96]\n",
        "            img = cv2.resize(img,dsize=(128,128))\n",
        "            cv2.imwrite(destination_path+'mask/'+img_info_val.iloc[num,4]+'_b_'+name,img)\n",
        "            img = cv2.imread(original_path)[256-96:256+96,160-96:160+96]\n",
        "            img = cv2.resize(img,dsize=(128,128))\n",
        "            cv2.imwrite(destination_path+'mask/'+img_info_val.iloc[num,4]+'_c_'+name,img)\n",
        "        elif name[:4] == 'inco':\n",
        "            img = cv2.imread(original_path)[256-96:256+96,192-96:192+96]\n",
        "            img = cv2.resize(img,dsize=(128,128))\n",
        "            cv2.imwrite(destination_path+'no_mask/'+img_info_val.iloc[num,4]+'_a_'+name,img)\n",
        "            img = cv2.imread(original_path)[256-96:256+96,224-96:224+96]\n",
        "            img = cv2.resize(img,dsize=(128,128))\n",
        "            cv2.imwrite(destination_path+'no_mask/'+img_info_val.iloc[num,4]+'_b_'+name,img)\n",
        "            img = cv2.imread(original_path)[256-96:256+96,160-96:160+96]\n",
        "            img = cv2.resize(img,dsize=(128,128))\n",
        "            cv2.imwrite(destination_path+'no_mask/'+img_info_val.iloc[num,4]+'_c_'+name,img)\n",
        "        elif name[:4] == 'norm':\n",
        "            img = cv2.imread(original_path)[256-96:256+96,192-96:192+96]\n",
        "            img = cv2.resize(img,dsize=(128,128))\n",
        "            cv2.imwrite(destination_path+'no_mask/'+img_info_val.iloc[num,4]+'_a_'+name,img)\n",
        "            img = cv2.imread(original_path)[256-96:256+96,224-96:224+96]\n",
        "            img = cv2.resize(img,dsize=(128,128))\n",
        "            cv2.imwrite(destination_path+'no_mask/'+img_info_val.iloc[num,4]+'_b_'+name,img)\n",
        "            img = cv2.imread(original_path)[256-96:256+96,160-96:160+96]\n",
        "            img = cv2.resize(img,dsize=(128,128))\n",
        "            cv2.imwrite(destination_path+'no_mask/'+img_info_val.iloc[num,4]+'_c_'+name,img)\n",
        "            \n",
        "            img = cv2.imread(original_path)[:128,:128]\n",
        "            cv2.imwrite(destination_path+'background/'+img_info_val.iloc[num,4]+'_a_'+name,img)\n",
        "            img = cv2.imread(original_path)[256-64:256+64,:128]\n",
        "            cv2.imwrite(destination_path+'background/'+img_info_val.iloc[num,4]+'_b_'+name,img)\n",
        "            img = cv2.imread(original_path)[-128:,:128]\n",
        "            cv2.imwrite(destination_path+'background/'+img_info_val.iloc[num,4]+'_c_'+name,img)\n",
        "            img = cv2.imread(original_path)[:128,192-64:192+64]\n",
        "            cv2.imwrite(destination_path+'background/'+img_info_val.iloc[num,4]+'_d_'+name,img)\n",
        "            img = cv2.imread(original_path)[-128:,192-64:192+64]\n",
        "            cv2.imwrite(destination_path+'background/'+img_info_val.iloc[num,4]+'_e_'+name,img)\n",
        "            img = cv2.imread(original_path)[:128,-128:]\n",
        "            cv2.imwrite(destination_path+'background/'+img_info_val.iloc[num,4]+'_f_'+name,img)\n",
        "            img = cv2.imread(original_path)[256-64:256+64,-128:]\n",
        "            cv2.imwrite(destination_path+'background/'+img_info_val.iloc[num,4]+'_g_'+name,img)\n",
        "            img = cv2.imread(original_path)[-128:,-128:]\n",
        "            cv2.imwrite(destination_path+'background/'+img_info_val.iloc[num,4]+'_h_'+name,img)"
      ],
      "execution_count": 8,
      "outputs": [
        {
          "output_type": "stream",
          "text": [
            "100%|██████████| 270/270 [00:24<00:00, 11.06it/s]\n"
          ],
          "name": "stderr"
        }
      ]
    },
    {
      "cell_type": "code",
      "metadata": {
        "colab": {
          "base_uri": "https://localhost:8080/"
        },
        "id": "pvaOMv279nlh",
        "outputId": "8cdf7bc2-aff3-4761-8c14-d7d192c96eb1"
      },
      "source": [
        "train_data = DataLoader.from_folder('/content/train_dataset')\n",
        "val_data = DataLoader.from_folder('/content/val_dataset')"
      ],
      "execution_count": 9,
      "outputs": [
        {
          "output_type": "stream",
          "text": [
            "INFO:tensorflow:Load image with size: 70470, num_label: 3, labels: background, mask, no_mask.\n",
            "INFO:tensorflow:Load image with size: 7830, num_label: 3, labels: background, mask, no_mask.\n"
          ],
          "name": "stdout"
        }
      ]
    },
    {
      "cell_type": "code",
      "metadata": {
        "id": "0iAQ81tV8kW3"
      },
      "source": [
        "custom = image_classifier.ModelSpec(uri='https://tfhub.dev/google/imagenet/mobilenet_v1_025_128/classification/5')"
      ],
      "execution_count": 10,
      "outputs": []
    },
    {
      "cell_type": "code",
      "metadata": {
        "id": "xLNS6_5QuAoE"
      },
      "source": [
        "from tensorflow import keras\n",
        "from tensorflow.keras import layers\n",
        "\n",
        "data_augmentation = keras.Sequential(\n",
        "    [\n",
        "     layers.experimental.preprocessing.Normalization(mean=0.450, variance=0.225)\n",
        "    ]\n",
        ")"
      ],
      "execution_count": 11,
      "outputs": []
    },
    {
      "cell_type": "code",
      "metadata": {
        "colab": {
          "base_uri": "https://localhost:8080/"
        },
        "id": "oApV95wY6oPp",
        "outputId": "417300b9-d7d0-446d-f54d-ac181381e49e"
      },
      "source": [
        "model = image_classifier.create(train_data=train_data,\n",
        "                                model_spec=custom,\n",
        "                                validation_data=val_data,\n",
        "                                batch_size=512,\n",
        "                                epochs=50,\n",
        "                                learning_rate=5e-4,\n",
        "                                shuffle=True,\n",
        "                                use_augmentation=data_augmentation\n",
        "                                )"
      ],
      "execution_count": 12,
      "outputs": [
        {
          "output_type": "stream",
          "text": [
            "INFO:tensorflow:Retraining the models...\n",
            "WARNING:tensorflow:Please add `keras.layers.InputLayer` instead of `keras.Input` to Sequential model. `keras.Input` is intended to be used by Functional model.\n"
          ],
          "name": "stdout"
        },
        {
          "output_type": "stream",
          "text": [
            "WARNING:tensorflow:Please add `keras.layers.InputLayer` instead of `keras.Input` to Sequential model. `keras.Input` is intended to be used by Functional model.\n"
          ],
          "name": "stderr"
        },
        {
          "output_type": "stream",
          "text": [
            "Model: \"sequential_1\"\n",
            "_________________________________________________________________\n",
            "Layer (type)                 Output Shape              Param #   \n",
            "=================================================================\n",
            "hub_keras_layer_v1v2 (HubKer (None, 1001)              475801    \n",
            "_________________________________________________________________\n",
            "dropout (Dropout)            (None, 1001)              0         \n",
            "_________________________________________________________________\n",
            "dense (Dense)                (None, 3)                 3006      \n",
            "=================================================================\n",
            "Total params: 478,807\n",
            "Trainable params: 3,006\n",
            "Non-trainable params: 475,801\n",
            "_________________________________________________________________\n",
            "None\n",
            "INFO:tensorflow:Use default resize_bicubic.\n"
          ],
          "name": "stdout"
        },
        {
          "output_type": "stream",
          "text": [
            "INFO:tensorflow:Use default resize_bicubic.\n"
          ],
          "name": "stderr"
        },
        {
          "output_type": "stream",
          "text": [
            "INFO:tensorflow:Use customized resize method bilinear\n"
          ],
          "name": "stdout"
        },
        {
          "output_type": "stream",
          "text": [
            "INFO:tensorflow:Use customized resize method bilinear\n"
          ],
          "name": "stderr"
        },
        {
          "output_type": "stream",
          "text": [
            "INFO:tensorflow:Use customized resize method bilinear\n"
          ],
          "name": "stdout"
        },
        {
          "output_type": "stream",
          "text": [
            "INFO:tensorflow:Use customized resize method bilinear\n"
          ],
          "name": "stderr"
        },
        {
          "output_type": "stream",
          "text": [
            "Epoch 1/50\n"
          ],
          "name": "stdout"
        },
        {
          "output_type": "stream",
          "text": [
            "/usr/local/lib/python3.7/dist-packages/tensorflow/python/keras/optimizer_v2/optimizer_v2.py:375: UserWarning: The `lr` argument is deprecated, use `learning_rate` instead.\n",
            "  \"The `lr` argument is deprecated, use `learning_rate` instead.\")\n"
          ],
          "name": "stderr"
        },
        {
          "output_type": "stream",
          "text": [
            "137/137 [==============================] - 129s 799ms/step - loss: 0.9834 - accuracy: 0.7036 - val_loss: 0.5479 - val_accuracy: 0.8930\n",
            "Epoch 2/50\n",
            "137/137 [==============================] - 109s 802ms/step - loss: 0.7482 - accuracy: 0.7893 - val_loss: 0.4937 - val_accuracy: 0.9247\n",
            "Epoch 3/50\n",
            "137/137 [==============================] - 108s 796ms/step - loss: 0.6925 - accuracy: 0.8071 - val_loss: 0.4717 - val_accuracy: 0.9363\n",
            "Epoch 4/50\n",
            "137/137 [==============================] - 107s 787ms/step - loss: 0.6558 - accuracy: 0.8214 - val_loss: 0.4824 - val_accuracy: 0.9303\n",
            "Epoch 5/50\n",
            "137/137 [==============================] - 106s 775ms/step - loss: 0.6337 - accuracy: 0.8286 - val_loss: 0.4390 - val_accuracy: 0.9482\n",
            "Epoch 6/50\n",
            "137/137 [==============================] - 106s 780ms/step - loss: 0.6103 - accuracy: 0.8395 - val_loss: 0.4485 - val_accuracy: 0.9438\n",
            "Epoch 7/50\n",
            "137/137 [==============================] - 107s 784ms/step - loss: 0.5982 - accuracy: 0.8452 - val_loss: 0.4626 - val_accuracy: 0.9346\n",
            "Epoch 8/50\n",
            "137/137 [==============================] - 105s 771ms/step - loss: 0.5875 - accuracy: 0.8497 - val_loss: 0.4309 - val_accuracy: 0.9508\n",
            "Epoch 9/50\n",
            "137/137 [==============================] - 104s 761ms/step - loss: 0.5773 - accuracy: 0.8560 - val_loss: 0.4319 - val_accuracy: 0.9513\n",
            "Epoch 10/50\n",
            "137/137 [==============================] - 105s 769ms/step - loss: 0.5701 - accuracy: 0.8585 - val_loss: 0.4324 - val_accuracy: 0.9500\n",
            "Epoch 11/50\n",
            "137/137 [==============================] - 105s 771ms/step - loss: 0.5653 - accuracy: 0.8610 - val_loss: 0.4352 - val_accuracy: 0.9474\n",
            "Epoch 12/50\n",
            "137/137 [==============================] - 105s 769ms/step - loss: 0.5604 - accuracy: 0.8621 - val_loss: 0.4184 - val_accuracy: 0.9560\n",
            "Epoch 13/50\n",
            "137/137 [==============================] - 104s 765ms/step - loss: 0.5565 - accuracy: 0.8652 - val_loss: 0.4233 - val_accuracy: 0.9529\n",
            "Epoch 14/50\n",
            "137/137 [==============================] - 106s 779ms/step - loss: 0.5497 - accuracy: 0.8697 - val_loss: 0.4256 - val_accuracy: 0.9525\n",
            "Epoch 15/50\n",
            "137/137 [==============================] - 105s 775ms/step - loss: 0.5493 - accuracy: 0.8681 - val_loss: 0.4210 - val_accuracy: 0.9539\n",
            "Epoch 16/50\n",
            "137/137 [==============================] - 105s 768ms/step - loss: 0.5456 - accuracy: 0.8721 - val_loss: 0.4252 - val_accuracy: 0.9530\n",
            "Epoch 17/50\n",
            "137/137 [==============================] - 105s 771ms/step - loss: 0.5439 - accuracy: 0.8736 - val_loss: 0.4235 - val_accuracy: 0.9529\n",
            "Epoch 18/50\n",
            "137/137 [==============================] - 105s 768ms/step - loss: 0.5437 - accuracy: 0.8711 - val_loss: 0.4246 - val_accuracy: 0.9522\n",
            "Epoch 19/50\n",
            "137/137 [==============================] - 104s 764ms/step - loss: 0.5407 - accuracy: 0.8736 - val_loss: 0.4211 - val_accuracy: 0.9531\n",
            "Epoch 20/50\n",
            "137/137 [==============================] - 103s 759ms/step - loss: 0.5385 - accuracy: 0.8743 - val_loss: 0.4334 - val_accuracy: 0.9480\n",
            "Epoch 21/50\n",
            "137/137 [==============================] - 101s 743ms/step - loss: 0.5398 - accuracy: 0.8741 - val_loss: 0.4187 - val_accuracy: 0.9547\n",
            "Epoch 22/50\n",
            "137/137 [==============================] - 101s 743ms/step - loss: 0.5352 - accuracy: 0.8771 - val_loss: 0.4191 - val_accuracy: 0.9549\n",
            "Epoch 23/50\n",
            "137/137 [==============================] - 101s 743ms/step - loss: 0.5346 - accuracy: 0.8765 - val_loss: 0.4167 - val_accuracy: 0.9552\n",
            "Epoch 24/50\n",
            "137/137 [==============================] - 101s 745ms/step - loss: 0.5338 - accuracy: 0.8765 - val_loss: 0.4259 - val_accuracy: 0.9517\n",
            "Epoch 25/50\n",
            "137/137 [==============================] - 104s 761ms/step - loss: 0.5338 - accuracy: 0.8789 - val_loss: 0.4124 - val_accuracy: 0.9579\n",
            "Epoch 26/50\n",
            "137/137 [==============================] - 104s 761ms/step - loss: 0.5334 - accuracy: 0.8780 - val_loss: 0.4126 - val_accuracy: 0.9577\n",
            "Epoch 27/50\n",
            "137/137 [==============================] - 103s 759ms/step - loss: 0.5306 - accuracy: 0.8794 - val_loss: 0.4203 - val_accuracy: 0.9535\n",
            "Epoch 28/50\n",
            "137/137 [==============================] - 103s 759ms/step - loss: 0.5307 - accuracy: 0.8796 - val_loss: 0.4200 - val_accuracy: 0.9542\n",
            "Epoch 29/50\n",
            "137/137 [==============================] - 104s 764ms/step - loss: 0.5293 - accuracy: 0.8807 - val_loss: 0.4230 - val_accuracy: 0.9520\n",
            "Epoch 30/50\n",
            "137/137 [==============================] - 103s 759ms/step - loss: 0.5304 - accuracy: 0.8794 - val_loss: 0.4124 - val_accuracy: 0.9586\n",
            "Epoch 31/50\n",
            "137/137 [==============================] - 103s 759ms/step - loss: 0.5299 - accuracy: 0.8800 - val_loss: 0.4166 - val_accuracy: 0.9556\n",
            "Epoch 32/50\n",
            "137/137 [==============================] - 104s 764ms/step - loss: 0.5289 - accuracy: 0.8782 - val_loss: 0.4217 - val_accuracy: 0.9523\n",
            "Epoch 33/50\n",
            "137/137 [==============================] - 103s 758ms/step - loss: 0.5294 - accuracy: 0.8807 - val_loss: 0.4230 - val_accuracy: 0.9509\n",
            "Epoch 34/50\n",
            "137/137 [==============================] - 104s 763ms/step - loss: 0.5286 - accuracy: 0.8823 - val_loss: 0.4354 - val_accuracy: 0.9440\n",
            "Epoch 35/50\n",
            "137/137 [==============================] - 104s 767ms/step - loss: 0.5276 - accuracy: 0.8815 - val_loss: 0.4137 - val_accuracy: 0.9570\n",
            "Epoch 36/50\n",
            "137/137 [==============================] - 105s 768ms/step - loss: 0.5286 - accuracy: 0.8808 - val_loss: 0.4301 - val_accuracy: 0.9482\n",
            "Epoch 37/50\n",
            "137/137 [==============================] - 105s 768ms/step - loss: 0.5278 - accuracy: 0.8815 - val_loss: 0.4134 - val_accuracy: 0.9572\n",
            "Epoch 38/50\n",
            "137/137 [==============================] - 105s 771ms/step - loss: 0.5262 - accuracy: 0.8824 - val_loss: 0.4192 - val_accuracy: 0.9548\n",
            "Epoch 39/50\n",
            "137/137 [==============================] - 105s 768ms/step - loss: 0.5231 - accuracy: 0.8847 - val_loss: 0.4204 - val_accuracy: 0.9533\n",
            "Epoch 40/50\n",
            "137/137 [==============================] - 105s 770ms/step - loss: 0.5266 - accuracy: 0.8822 - val_loss: 0.4189 - val_accuracy: 0.9540\n",
            "Epoch 41/50\n",
            "137/137 [==============================] - 105s 771ms/step - loss: 0.5262 - accuracy: 0.8824 - val_loss: 0.4269 - val_accuracy: 0.9491\n",
            "Epoch 42/50\n",
            "137/137 [==============================] - 104s 767ms/step - loss: 0.5260 - accuracy: 0.8835 - val_loss: 0.4294 - val_accuracy: 0.9483\n",
            "Epoch 43/50\n",
            "137/137 [==============================] - 104s 766ms/step - loss: 0.5285 - accuracy: 0.8801 - val_loss: 0.4208 - val_accuracy: 0.9518\n",
            "Epoch 44/50\n",
            "137/137 [==============================] - 103s 760ms/step - loss: 0.5285 - accuracy: 0.8817 - val_loss: 0.4241 - val_accuracy: 0.9517\n",
            "Epoch 45/50\n",
            "137/137 [==============================] - 103s 759ms/step - loss: 0.5255 - accuracy: 0.8820 - val_loss: 0.4198 - val_accuracy: 0.9533\n",
            "Epoch 46/50\n",
            "137/137 [==============================] - 104s 761ms/step - loss: 0.5274 - accuracy: 0.8819 - val_loss: 0.4128 - val_accuracy: 0.9577\n",
            "Epoch 47/50\n",
            "137/137 [==============================] - 104s 764ms/step - loss: 0.5244 - accuracy: 0.8838 - val_loss: 0.4188 - val_accuracy: 0.9551\n",
            "Epoch 48/50\n",
            "137/137 [==============================] - 104s 764ms/step - loss: 0.5250 - accuracy: 0.8829 - val_loss: 0.4230 - val_accuracy: 0.9527\n",
            "Epoch 49/50\n",
            "137/137 [==============================] - 105s 769ms/step - loss: 0.5243 - accuracy: 0.8818 - val_loss: 0.4194 - val_accuracy: 0.9544\n",
            "Epoch 50/50\n",
            "137/137 [==============================] - 105s 769ms/step - loss: 0.5272 - accuracy: 0.8815 - val_loss: 0.4249 - val_accuracy: 0.9499\n"
          ],
          "name": "stdout"
        }
      ]
    },
    {
      "cell_type": "code",
      "metadata": {
        "id": "OJIepkAK7nMB"
      },
      "source": [
        "config = QuantizationConfig.for_dynamic()"
      ],
      "execution_count": 13,
      "outputs": []
    },
    {
      "cell_type": "code",
      "metadata": {
        "colab": {
          "base_uri": "https://localhost:8080/"
        },
        "id": "jCe_AYWu67oy",
        "outputId": "4d96ad80-7734-493e-a920-900f1ac7650d"
      },
      "source": [
        "model.export(export_dir='/content/drive/MyDrive/한양대학교/부스트캠프 AI Tech/[P4] 모델 최적화/', quantization_config=config)"
      ],
      "execution_count": 14,
      "outputs": [
        {
          "output_type": "stream",
          "text": [
            "INFO:tensorflow:Assets written to: /tmp/tmprlcmo8lv/assets\n"
          ],
          "name": "stdout"
        },
        {
          "output_type": "stream",
          "text": [
            "INFO:tensorflow:Assets written to: /tmp/tmprlcmo8lv/assets\n"
          ],
          "name": "stderr"
        },
        {
          "output_type": "stream",
          "text": [
            "INFO:tensorflow:Label file is inside the TFLite model with metadata.\n"
          ],
          "name": "stdout"
        },
        {
          "output_type": "stream",
          "text": [
            "INFO:tensorflow:Label file is inside the TFLite model with metadata.\n"
          ],
          "name": "stderr"
        },
        {
          "output_type": "stream",
          "text": [
            "INFO:tensorflow:Saving labels in /tmp/tmpykr8fp_0/labels.txt\n"
          ],
          "name": "stdout"
        },
        {
          "output_type": "stream",
          "text": [
            "INFO:tensorflow:Saving labels in /tmp/tmpykr8fp_0/labels.txt\n"
          ],
          "name": "stderr"
        },
        {
          "output_type": "stream",
          "text": [
            "INFO:tensorflow:TensorFlow Lite model exported successfully: /content/drive/MyDrive/한양대학교/부스트캠프 AI Tech/[P4] 모델 최적화/model.tflite\n"
          ],
          "name": "stdout"
        },
        {
          "output_type": "stream",
          "text": [
            "INFO:tensorflow:TensorFlow Lite model exported successfully: /content/drive/MyDrive/한양대학교/부스트캠프 AI Tech/[P4] 모델 최적화/model.tflite\n"
          ],
          "name": "stderr"
        }
      ]
    },
    {
      "cell_type": "code",
      "metadata": {
        "id": "5x9X2CI0PotB",
        "colab": {
          "base_uri": "https://localhost:8080/"
        },
        "outputId": "0e81e0cc-b01d-41c3-c6ec-da18fe8cd6e3"
      },
      "source": [
        "model.evaluate_tflite('/content/drive/MyDrive/한양대학교/부스트캠프 AI Tech/[P4] 모델 최적화/model.tflite', val_data)"
      ],
      "execution_count": 15,
      "outputs": [
        {
          "output_type": "stream",
          "text": [
            "INFO:tensorflow:Use customized resize method bilinear\n"
          ],
          "name": "stdout"
        },
        {
          "output_type": "stream",
          "text": [
            "INFO:tensorflow:Use customized resize method bilinear\n"
          ],
          "name": "stderr"
        },
        {
          "output_type": "execute_result",
          "data": {
            "text/plain": [
              "{'accuracy': 0.9616858237547893}"
            ]
          },
          "metadata": {
            "tags": []
          },
          "execution_count": 15
        }
      ]
    }
  ]
}