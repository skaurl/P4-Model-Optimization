{
  "nbformat": 4,
  "nbformat_minor": 0,
  "metadata": {
    "accelerator": "GPU",
    "colab": {
      "name": "Mask_Classfier.ipynb",
      "provenance": [],
      "collapsed_sections": [],
      "machine_shape": "hm",
      "mount_file_id": "1hChlHYBfnJ9gHw_WWTDMhwVd0Vd0Ywrk",
      "authorship_tag": "ABX9TyPPfKnXEaUvbrGE8ettBhIR",
      "include_colab_link": true
    },
    "kernelspec": {
      "display_name": "Python 3",
      "name": "python3"
    },
    "language_info": {
      "name": "python"
    }
  },
  "cells": [
    {
      "cell_type": "markdown",
      "metadata": {
        "id": "view-in-github",
        "colab_type": "text"
      },
      "source": [
        "<a href=\"https://colab.research.google.com/github/skaurl/P4-Model-Optimization/blob/main/Mask_Classfier.ipynb\" target=\"_parent\"><img src=\"https://colab.research.google.com/assets/colab-badge.svg\" alt=\"Open In Colab\"/></a>"
      ]
    },
    {
      "cell_type": "code",
      "metadata": {
        "id": "VrG1l1Op6a5a"
      },
      "source": [
        "!pip install -q tflite-model-maker"
      ],
      "execution_count": null,
      "outputs": []
    },
    {
      "cell_type": "code",
      "metadata": {
        "id": "vepxGJLkkv6i"
      },
      "source": [
        "import tarfile\n",
        "\n",
        "f = tarfile.open('/content/drive/MyDrive/한양대학교/부스트캠프 AI Tech/[P4] 모델 최적화/train.tar.gz')\n",
        "f.extractall()\n",
        "f.close()"
      ],
      "execution_count": null,
      "outputs": []
    },
    {
      "cell_type": "code",
      "metadata": {
        "id": "ejAleFETKCT0"
      },
      "source": [
        "!find . -type f -name '._*' -delete"
      ],
      "execution_count": null,
      "outputs": []
    },
    {
      "cell_type": "code",
      "metadata": {
        "id": "toxb2keR6igo"
      },
      "source": [
        "import os\n",
        "\n",
        "import pandas as pd\n",
        "import numpy as np\n",
        "\n",
        "from tqdm import tqdm\n",
        "from glob import glob\n",
        "import shutil\n",
        "import cv2\n",
        "from google.colab.patches import cv2_imshow\n",
        "from sklearn.model_selection import train_test_split\n",
        "\n",
        "import tensorflow as tf\n",
        "assert tf.__version__.startswith('2')\n",
        "\n",
        "from tflite_model_maker import model_spec\n",
        "from tflite_model_maker import image_classifier\n",
        "from tflite_model_maker.config import ExportFormat\n",
        "from tflite_model_maker.config import QuantizationConfig\n",
        "from tflite_model_maker.image_classifier import DataLoader\n",
        "\n",
        "import matplotlib.pyplot as plt"
      ],
      "execution_count": null,
      "outputs": []
    },
    {
      "cell_type": "code",
      "metadata": {
        "id": "BxHQUfkK6B1l"
      },
      "source": [
        "os.makedirs('/content/train_dataset')\n",
        "os.makedirs('/content/train_dataset/mask')\n",
        "os.makedirs('/content/train_dataset/no_mask')\n",
        "os.makedirs('/content/train_dataset/background')\n",
        "\n",
        "os.makedirs('/content/val_dataset')\n",
        "os.makedirs('/content/val_dataset/mask')\n",
        "os.makedirs('/content/val_dataset/no_mask')\n",
        "os.makedirs('/content/val_dataset/background')"
      ],
      "execution_count": null,
      "outputs": []
    },
    {
      "cell_type": "code",
      "metadata": {
        "id": "peRYYSDlaiwg"
      },
      "source": [
        "img_info = pd.read_csv('/content/train/train.csv')\n",
        "\n",
        "img_info_train, img_info_val = train_test_split(img_info, test_size=0.1, random_state=42)"
      ],
      "execution_count": null,
      "outputs": []
    },
    {
      "cell_type": "code",
      "metadata": {
        "id": "cE5XHk8Pa1L-"
      },
      "source": [
        "for num in tqdm(range(len(img_info_train))):\n",
        "    for name in os.listdir('/content/train/images/'+img_info_train.iloc[num,4]):\n",
        "        original_path = '/content/train/images/'+img_info_train.iloc[num,4]+'/'+name\n",
        "        destination_path = '/content/train_dataset/'\n",
        "\n",
        "        if name[:4] == 'mask':\n",
        "            img = cv2.imread(original_path)[256-96:256+96,192-96:192+96]\n",
        "            img = cv2.resize(img,dsize=(128,128))\n",
        "            cv2.imwrite(destination_path+'mask/'+img_info_train.iloc[num,4]+'_a_'+name,img)\n",
        "            img = cv2.imread(original_path)[256-96:256+96,224-96:224+96]\n",
        "            img = cv2.resize(img,dsize=(128,128))\n",
        "            cv2.imwrite(destination_path+'mask/'+img_info_train.iloc[num,4]+'_b_'+name,img)\n",
        "            img = cv2.imread(original_path)[256-96:256+96,160-96:160+96]\n",
        "            img = cv2.resize(img,dsize=(128,128))\n",
        "            cv2.imwrite(destination_path+'mask/'+img_info_train.iloc[num,4]+'_c_'+name,img)\n",
        "        elif name[:4] == 'inco':\n",
        "            img = cv2.imread(original_path)[256-96:256+96,192-96:192+96]\n",
        "            img = cv2.resize(img,dsize=(128,128))\n",
        "            cv2.imwrite(destination_path+'no_mask/'+img_info_train.iloc[num,4]+'_a_'+name,img)\n",
        "            img = cv2.imread(original_path)[256-96:256+96,224-96:224+96]\n",
        "            img = cv2.resize(img,dsize=(128,128))\n",
        "            cv2.imwrite(destination_path+'no_mask/'+img_info_train.iloc[num,4]+'_b_'+name,img)\n",
        "            img = cv2.imread(original_path)[256-96:256+96,160-96:160+96]\n",
        "            img = cv2.resize(img,dsize=(128,128))\n",
        "            cv2.imwrite(destination_path+'no_mask/'+img_info_train.iloc[num,4]+'_c_'+name,img)\n",
        "        elif name[:4] == 'norm':\n",
        "            img = cv2.imread(original_path)[256-96:256+96,192-96:192+96]\n",
        "            img = cv2.resize(img,dsize=(128,128))\n",
        "            cv2.imwrite(destination_path+'no_mask/'+img_info_train.iloc[num,4]+'_a_'+name,img)\n",
        "            img = cv2.imread(original_path)[256-96:256+96,224-96:224+96]\n",
        "            img = cv2.resize(img,dsize=(128,128))\n",
        "            cv2.imwrite(destination_path+'no_mask/'+img_info_train.iloc[num,4]+'_b_'+name,img)\n",
        "            img = cv2.imread(original_path)[256-96:256+96,160-96:160+96]\n",
        "            img = cv2.resize(img,dsize=(128,128))\n",
        "            cv2.imwrite(destination_path+'no_mask/'+img_info_train.iloc[num,4]+'_c_'+name,img)\n",
        "            \n",
        "            img = cv2.imread(original_path)[:128,:128]\n",
        "            cv2.imwrite(destination_path+'background/'+img_info_train.iloc[num,4]+'_a_'+name,img)\n",
        "            img = cv2.imread(original_path)[256-64:256+64,:128]\n",
        "            cv2.imwrite(destination_path+'background/'+img_info_train.iloc[num,4]+'_b_'+name,img)\n",
        "            img = cv2.imread(original_path)[-128:,:128]\n",
        "            cv2.imwrite(destination_path+'background/'+img_info_train.iloc[num,4]+'_c_'+name,img)\n",
        "            img = cv2.imread(original_path)[:128,192-64:192+64]\n",
        "            cv2.imwrite(destination_path+'background/'+img_info_train.iloc[num,4]+'_d_'+name,img)\n",
        "            img = cv2.imread(original_path)[-128:,192-64:192+64]\n",
        "            cv2.imwrite(destination_path+'background/'+img_info_train.iloc[num,4]+'_e_'+name,img)\n",
        "            img = cv2.imread(original_path)[:128,-128:]\n",
        "            cv2.imwrite(destination_path+'background/'+img_info_train.iloc[num,4]+'_f_'+name,img)\n",
        "            img = cv2.imread(original_path)[256-64:256+64,-128:]\n",
        "            cv2.imwrite(destination_path+'background/'+img_info_train.iloc[num,4]+'_g_'+name,img)\n",
        "            img = cv2.imread(original_path)[-128:,-128:]\n",
        "            cv2.imwrite(destination_path+'background/'+img_info_train.iloc[num,4]+'_h_'+name,img)"
      ],
      "execution_count": null,
      "outputs": []
    },
    {
      "cell_type": "code",
      "metadata": {
        "id": "vHmJ2i0Qp5HQ"
      },
      "source": [
        "for num in tqdm(range(len(img_info_val))):\n",
        "    for name in os.listdir('/content/train/images/'+img_info_val.iloc[num,4]):\n",
        "        original_path = '/content/train/images/'+img_info_val.iloc[num,4]+'/'+name\n",
        "        destination_path = '/content/val_dataset/'\n",
        "\n",
        "        if name[:4] == 'mask':\n",
        "            img = cv2.imread(original_path)[256-96:256+96,192-96:192+96]\n",
        "            img = cv2.resize(img,dsize=(128,128))\n",
        "            cv2.imwrite(destination_path+'mask/'+img_info_val.iloc[num,4]+'_a_'+name,img)\n",
        "            img = cv2.imread(original_path)[256-96:256+96,224-96:224+96]\n",
        "            img = cv2.resize(img,dsize=(128,128))\n",
        "            cv2.imwrite(destination_path+'mask/'+img_info_val.iloc[num,4]+'_b_'+name,img)\n",
        "            img = cv2.imread(original_path)[256-96:256+96,160-96:160+96]\n",
        "            img = cv2.resize(img,dsize=(128,128))\n",
        "            cv2.imwrite(destination_path+'mask/'+img_info_val.iloc[num,4]+'_c_'+name,img)\n",
        "        elif name[:4] == 'inco':\n",
        "            img = cv2.imread(original_path)[256-96:256+96,192-96:192+96]\n",
        "            img = cv2.resize(img,dsize=(128,128))\n",
        "            cv2.imwrite(destination_path+'no_mask/'+img_info_val.iloc[num,4]+'_a_'+name,img)\n",
        "            img = cv2.imread(original_path)[256-96:256+96,224-96:224+96]\n",
        "            img = cv2.resize(img,dsize=(128,128))\n",
        "            cv2.imwrite(destination_path+'no_mask/'+img_info_val.iloc[num,4]+'_b_'+name,img)\n",
        "            img = cv2.imread(original_path)[256-96:256+96,160-96:160+96]\n",
        "            img = cv2.resize(img,dsize=(128,128))\n",
        "            cv2.imwrite(destination_path+'no_mask/'+img_info_val.iloc[num,4]+'_c_'+name,img)\n",
        "        elif name[:4] == 'norm':\n",
        "            img = cv2.imread(original_path)[256-96:256+96,192-96:192+96]\n",
        "            img = cv2.resize(img,dsize=(128,128))\n",
        "            cv2.imwrite(destination_path+'no_mask/'+img_info_val.iloc[num,4]+'_a_'+name,img)\n",
        "            img = cv2.imread(original_path)[256-96:256+96,224-96:224+96]\n",
        "            img = cv2.resize(img,dsize=(128,128))\n",
        "            cv2.imwrite(destination_path+'no_mask/'+img_info_val.iloc[num,4]+'_b_'+name,img)\n",
        "            img = cv2.imread(original_path)[256-96:256+96,160-96:160+96]\n",
        "            img = cv2.resize(img,dsize=(128,128))\n",
        "            cv2.imwrite(destination_path+'no_mask/'+img_info_val.iloc[num,4]+'_c_'+name,img)\n",
        "            \n",
        "            img = cv2.imread(original_path)[:128,:128]\n",
        "            cv2.imwrite(destination_path+'background/'+img_info_val.iloc[num,4]+'_a_'+name,img)\n",
        "            img = cv2.imread(original_path)[256-64:256+64,:128]\n",
        "            cv2.imwrite(destination_path+'background/'+img_info_val.iloc[num,4]+'_b_'+name,img)\n",
        "            img = cv2.imread(original_path)[-128:,:128]\n",
        "            cv2.imwrite(destination_path+'background/'+img_info_val.iloc[num,4]+'_c_'+name,img)\n",
        "            img = cv2.imread(original_path)[:128,192-64:192+64]\n",
        "            cv2.imwrite(destination_path+'background/'+img_info_val.iloc[num,4]+'_d_'+name,img)\n",
        "            img = cv2.imread(original_path)[-128:,192-64:192+64]\n",
        "            cv2.imwrite(destination_path+'background/'+img_info_val.iloc[num,4]+'_e_'+name,img)\n",
        "            img = cv2.imread(original_path)[:128,-128:]\n",
        "            cv2.imwrite(destination_path+'background/'+img_info_val.iloc[num,4]+'_f_'+name,img)\n",
        "            img = cv2.imread(original_path)[256-64:256+64,-128:]\n",
        "            cv2.imwrite(destination_path+'background/'+img_info_val.iloc[num,4]+'_g_'+name,img)\n",
        "            img = cv2.imread(original_path)[-128:,-128:]\n",
        "            cv2.imwrite(destination_path+'background/'+img_info_val.iloc[num,4]+'_h_'+name,img)"
      ],
      "execution_count": null,
      "outputs": []
    },
    {
      "cell_type": "code",
      "metadata": {
        "id": "pvaOMv279nlh"
      },
      "source": [
        "train_data = DataLoader.from_folder('/content/train_dataset')\n",
        "val_data = DataLoader.from_folder('/content/val_dataset')"
      ],
      "execution_count": null,
      "outputs": []
    },
    {
      "cell_type": "code",
      "metadata": {
        "id": "0iAQ81tV8kW3"
      },
      "source": [
        "custom = image_classifier.ModelSpec(uri='https://tfhub.dev/google/imagenet/mobilenet_v1_025_128/classification/5')"
      ],
      "execution_count": null,
      "outputs": []
    },
    {
      "cell_type": "code",
      "metadata": {
        "colab": {
          "background_save": true
        },
        "id": "oApV95wY6oPp"
      },
      "source": [
        "model = image_classifier.create(train_data=train_data,\n",
        "                                model_spec=custom,\n",
        "                                validation_data=val_data,\n",
        "                                batch_size=512,\n",
        "                                epochs=50,\n",
        "                                learning_rate=5e-4,\n",
        "                                shuffle=True,\n",
        "                                )"
      ],
      "execution_count": null,
      "outputs": []
    },
    {
      "cell_type": "code",
      "metadata": {
        "colab": {
          "background_save": true
        },
        "id": "OJIepkAK7nMB"
      },
      "source": [
        "config = QuantizationConfig.for_dynamic()"
      ],
      "execution_count": null,
      "outputs": []
    },
    {
      "cell_type": "code",
      "metadata": {
        "colab": {
          "background_save": true
        },
        "id": "jCe_AYWu67oy"
      },
      "source": [
        "model.export(export_dir='/content/drive/MyDrive/한양대학교/부스트캠프 AI Tech/[P4] 모델 최적화/', quantization_config=config)"
      ],
      "execution_count": null,
      "outputs": []
    },
    {
      "cell_type": "code",
      "metadata": {
        "id": "5x9X2CI0PotB"
      },
      "source": [
        "model.evaluate_tflite('/content/drive/MyDrive/한양대학교/부스트캠프 AI Tech/[P4] 모델 최적화/model.tflite', val_data)"
      ],
      "execution_count": null,
      "outputs": []
    }
  ]
}