{
  "nbformat": 4,
  "nbformat_minor": 0,
  "metadata": {
    "accelerator": "GPU",
    "colab": {
      "name": "Mask_Classfier.ipynb",
      "provenance": [],
      "collapsed_sections": [],
      "machine_shape": "hm",
      "mount_file_id": "1hChlHYBfnJ9gHw_WWTDMhwVd0Vd0Ywrk",
      "authorship_tag": "ABX9TyOjL7MbS1MKJ0iPdpeCvMKV",
      "include_colab_link": true
    },
    "kernelspec": {
      "display_name": "Python 3",
      "name": "python3"
    },
    "language_info": {
      "name": "python"
    }
  },
  "cells": [
    {
      "cell_type": "markdown",
      "metadata": {
        "id": "view-in-github",
        "colab_type": "text"
      },
      "source": [
        "<a href=\"https://colab.research.google.com/github/skaurl/P4-Model-Optimization/blob/main/Mask_Classfier.ipynb\" target=\"_parent\"><img src=\"https://colab.research.google.com/assets/colab-badge.svg\" alt=\"Open In Colab\"/></a>"
      ]
    },
    {
      "cell_type": "code",
      "metadata": {
        "id": "VrG1l1Op6a5a",
        "colab": {
          "base_uri": "https://localhost:8080/"
        },
        "outputId": "27b4cdd2-4ea2-4b5e-a8d6-8658461392c7"
      },
      "source": [
        "!pip install -q tflite-model-maker"
      ],
      "execution_count": 1,
      "outputs": [
        {
          "output_type": "stream",
          "text": [
            "\u001b[K     |████████████████████████████████| 593kB 7.6MB/s \n",
            "\u001b[K     |████████████████████████████████| 122kB 50.9MB/s \n",
            "\u001b[K     |████████████████████████████████| 849kB 37.0MB/s \n",
            "\u001b[K     |████████████████████████████████| 1.1MB 55.9MB/s \n",
            "\u001b[K     |████████████████████████████████| 645kB 66.6MB/s \n",
            "\u001b[K     |████████████████████████████████| 686kB 66.9MB/s \n",
            "\u001b[K     |████████████████████████████████| 112kB 69.4MB/s \n",
            "\u001b[K     |████████████████████████████████| 92kB 11.1MB/s \n",
            "\u001b[K     |████████████████████████████████| 71kB 10.8MB/s \n",
            "\u001b[K     |████████████████████████████████| 6.3MB 51.5MB/s \n",
            "\u001b[K     |████████████████████████████████| 174kB 59.5MB/s \n",
            "\u001b[K     |████████████████████████████████| 1.2MB 63.7MB/s \n",
            "\u001b[K     |████████████████████████████████| 358kB 59.5MB/s \n",
            "\u001b[K     |████████████████████████████████| 102kB 12.4MB/s \n",
            "\u001b[K     |████████████████████████████████| 38.2MB 134kB/s \n",
            "\u001b[K     |████████████████████████████████| 194kB 62.7MB/s \n",
            "\u001b[?25h  Building wheel for fire (setup.py) ... \u001b[?25l\u001b[?25hdone\n",
            "  Building wheel for py-cpuinfo (setup.py) ... \u001b[?25l\u001b[?25hdone\n"
          ],
          "name": "stdout"
        }
      ]
    },
    {
      "cell_type": "code",
      "metadata": {
        "id": "vepxGJLkkv6i"
      },
      "source": [
        "import tarfile\n",
        "\n",
        "f = tarfile.open('/content/drive/MyDrive/한양대학교/부스트캠프 AI Tech/[P4] 모델 최적화/train.tar.gz')\n",
        "f.extractall()\n",
        "f.close()"
      ],
      "execution_count": 2,
      "outputs": []
    },
    {
      "cell_type": "code",
      "metadata": {
        "id": "ejAleFETKCT0"
      },
      "source": [
        "!find . -type f -name '._*' -delete"
      ],
      "execution_count": 3,
      "outputs": []
    },
    {
      "cell_type": "code",
      "metadata": {
        "id": "toxb2keR6igo"
      },
      "source": [
        "import os\n",
        "\n",
        "import pandas as pd\n",
        "import numpy as np\n",
        "\n",
        "from tqdm import tqdm\n",
        "from glob import glob\n",
        "import shutil\n",
        "import cv2\n",
        "from google.colab.patches import cv2_imshow\n",
        "from sklearn.model_selection import train_test_split\n",
        "\n",
        "import tensorflow as tf\n",
        "assert tf.__version__.startswith('2')\n",
        "\n",
        "from tflite_model_maker import model_spec\n",
        "from tflite_model_maker import image_classifier\n",
        "from tflite_model_maker.config import ExportFormat\n",
        "from tflite_model_maker.config import QuantizationConfig\n",
        "from tflite_model_maker.image_classifier import DataLoader\n",
        "\n",
        "import matplotlib.pyplot as plt"
      ],
      "execution_count": 4,
      "outputs": []
    },
    {
      "cell_type": "code",
      "metadata": {
        "id": "BxHQUfkK6B1l"
      },
      "source": [
        "os.makedirs('/content/train_dataset')\n",
        "os.makedirs('/content/train_dataset/mask')\n",
        "os.makedirs('/content/train_dataset/no_mask')\n",
        "os.makedirs('/content/train_dataset/background')\n",
        "\n",
        "os.makedirs('/content/val_dataset')\n",
        "os.makedirs('/content/val_dataset/mask')\n",
        "os.makedirs('/content/val_dataset/no_mask')\n",
        "os.makedirs('/content/val_dataset/background')"
      ],
      "execution_count": 5,
      "outputs": []
    },
    {
      "cell_type": "code",
      "metadata": {
        "id": "peRYYSDlaiwg"
      },
      "source": [
        "img_info = pd.read_csv('/content/train/train.csv')\n",
        "\n",
        "img_info_train, img_info_val = train_test_split(img_info, test_size=0.1, random_state=42)"
      ],
      "execution_count": 6,
      "outputs": []
    },
    {
      "cell_type": "code",
      "metadata": {
        "id": "cE5XHk8Pa1L-",
        "colab": {
          "base_uri": "https://localhost:8080/"
        },
        "outputId": "ca872c9e-353f-4c7a-d613-8dc7066b7590"
      },
      "source": [
        "for num in tqdm(range(len(img_info_train))):\n",
        "    for name in os.listdir('/content/train/images/'+img_info_train.iloc[num,4]):\n",
        "        original_path = '/content/train/images/'+img_info_train.iloc[num,4]+'/'+name\n",
        "        destination_path = '/content/train_dataset/'\n",
        "\n",
        "        if name[:4] == 'mask':\n",
        "            img = cv2.imread(original_path)[256-96:256+96,192-96:192+96]\n",
        "            img = cv2.resize(img,dsize=(224,224))\n",
        "            cv2.imwrite(destination_path+'mask/'+img_info_train.iloc[num,4]+'_a_'+name,img)\n",
        "            img = cv2.imread(original_path)[256-96:256+96,224-96:224+96]\n",
        "            img = cv2.resize(img,dsize=(224,224))\n",
        "            cv2.imwrite(destination_path+'mask/'+img_info_train.iloc[num,4]+'_b_'+name,img)\n",
        "            img = cv2.imread(original_path)[256-96:256+96,160-96:160+96]\n",
        "            img = cv2.resize(img,dsize=(224,224))\n",
        "            cv2.imwrite(destination_path+'mask/'+img_info_train.iloc[num,4]+'_c_'+name,img)\n",
        "        elif name[:4] == 'inco':\n",
        "            img = cv2.imread(original_path)[256-96:256+96,192-96:192+96]\n",
        "            img = cv2.resize(img,dsize=(224,224))\n",
        "            cv2.imwrite(destination_path+'no_mask/'+img_info_train.iloc[num,4]+'_a_'+name,img)\n",
        "            img = cv2.imread(original_path)[256-96:256+96,224-96:224+96]\n",
        "            img = cv2.resize(img,dsize=(224,224))\n",
        "            cv2.imwrite(destination_path+'no_mask/'+img_info_train.iloc[num,4]+'_b_'+name,img)\n",
        "            img = cv2.imread(original_path)[256-96:256+96,160-96:160+96]\n",
        "            img = cv2.resize(img,dsize=(224,224))\n",
        "            cv2.imwrite(destination_path+'no_mask/'+img_info_train.iloc[num,4]+'_c_'+name,img)\n",
        "        elif name[:4] == 'norm':\n",
        "            img = cv2.imread(original_path)[256-96:256+96,192-96:192+96]\n",
        "            img = cv2.resize(img,dsize=(224,224))\n",
        "            cv2.imwrite(destination_path+'no_mask/'+img_info_train.iloc[num,4]+'_a_'+name,img)\n",
        "            img = cv2.imread(original_path)[256-96:256+96,224-96:224+96]\n",
        "            img = cv2.resize(img,dsize=(224,224))\n",
        "            cv2.imwrite(destination_path+'no_mask/'+img_info_train.iloc[num,4]+'_b_'+name,img)\n",
        "            img = cv2.imread(original_path)[256-96:256+96,160-96:160+96]\n",
        "            img = cv2.resize(img,dsize=(224,224))\n",
        "            cv2.imwrite(destination_path+'no_mask/'+img_info_train.iloc[num,4]+'_c_'+name,img)\n",
        "            \n",
        "            img = cv2.imread(original_path)[:128,:128]\n",
        "            img = cv2.resize(img,dsize=(224,224))\n",
        "            cv2.imwrite(destination_path+'background/'+img_info_train.iloc[num,4]+'_a_'+name,img)\n",
        "            img = cv2.imread(original_path)[256-64:256+64,:128]\n",
        "            img = cv2.resize(img,dsize=(224,224))\n",
        "            cv2.imwrite(destination_path+'background/'+img_info_train.iloc[num,4]+'_b_'+name,img)\n",
        "            img = cv2.imread(original_path)[-128:,:128]\n",
        "            img = cv2.resize(img,dsize=(224,224))\n",
        "            cv2.imwrite(destination_path+'background/'+img_info_train.iloc[num,4]+'_c_'+name,img)\n",
        "            img = cv2.imread(original_path)[:128,192-64:192+64]\n",
        "            img = cv2.resize(img,dsize=(224,224))\n",
        "            cv2.imwrite(destination_path+'background/'+img_info_train.iloc[num,4]+'_d_'+name,img)\n",
        "            img = cv2.imread(original_path)[-128:,192-64:192+64]\n",
        "            img = cv2.resize(img,dsize=(224,224))\n",
        "            cv2.imwrite(destination_path+'background/'+img_info_train.iloc[num,4]+'_e_'+name,img)\n",
        "            img = cv2.imread(original_path)[:128,-128:]\n",
        "            img = cv2.resize(img,dsize=(224,224))\n",
        "            cv2.imwrite(destination_path+'background/'+img_info_train.iloc[num,4]+'_f_'+name,img)\n",
        "            img = cv2.imread(original_path)[256-64:256+64,-128:]\n",
        "            img = cv2.resize(img,dsize=(224,224))\n",
        "            cv2.imwrite(destination_path+'background/'+img_info_train.iloc[num,4]+'_g_'+name,img)\n",
        "            img = cv2.imread(original_path)[-128:,-128:]\n",
        "            img = cv2.resize(img,dsize=(224,224))\n",
        "            cv2.imwrite(destination_path+'background/'+img_info_train.iloc[num,4]+'_h_'+name,img)"
      ],
      "execution_count": 7,
      "outputs": [
        {
          "output_type": "stream",
          "text": [
            "100%|██████████| 2430/2430 [03:58<00:00, 10.17it/s]\n"
          ],
          "name": "stderr"
        }
      ]
    },
    {
      "cell_type": "code",
      "metadata": {
        "id": "vHmJ2i0Qp5HQ",
        "colab": {
          "base_uri": "https://localhost:8080/"
        },
        "outputId": "4e83ce84-a2ef-4dcb-da1d-fef573219607"
      },
      "source": [
        "for num in tqdm(range(len(img_info_val))):\n",
        "    for name in os.listdir('/content/train/images/'+img_info_val.iloc[num,4]):\n",
        "        original_path = '/content/train/images/'+img_info_val.iloc[num,4]+'/'+name\n",
        "        destination_path = '/content/val_dataset/'\n",
        "\n",
        "        if name[:4] == 'mask':\n",
        "            img = cv2.imread(original_path)[256-96:256+96,192-96:192+96]\n",
        "            img = cv2.resize(img,dsize=(224,224))\n",
        "            cv2.imwrite(destination_path+'mask/'+img_info_val.iloc[num,4]+'_a_'+name,img)\n",
        "            img = cv2.imread(original_path)[256-96:256+96,224-96:224+96]\n",
        "            img = cv2.resize(img,dsize=(224,224))\n",
        "            cv2.imwrite(destination_path+'mask/'+img_info_val.iloc[num,4]+'_b_'+name,img)\n",
        "            img = cv2.imread(original_path)[256-96:256+96,160-96:160+96]\n",
        "            img = cv2.resize(img,dsize=(224,224))\n",
        "            cv2.imwrite(destination_path+'mask/'+img_info_val.iloc[num,4]+'_c_'+name,img)\n",
        "        elif name[:4] == 'inco':\n",
        "            img = cv2.imread(original_path)[256-96:256+96,192-96:192+96]\n",
        "            img = cv2.resize(img,dsize=(224,224))\n",
        "            cv2.imwrite(destination_path+'no_mask/'+img_info_val.iloc[num,4]+'_a_'+name,img)\n",
        "            img = cv2.imread(original_path)[256-96:256+96,224-96:224+96]\n",
        "            img = cv2.resize(img,dsize=(224,224))\n",
        "            cv2.imwrite(destination_path+'no_mask/'+img_info_val.iloc[num,4]+'_b_'+name,img)\n",
        "            img = cv2.imread(original_path)[256-96:256+96,160-96:160+96]\n",
        "            img = cv2.resize(img,dsize=(224,224))\n",
        "            cv2.imwrite(destination_path+'no_mask/'+img_info_val.iloc[num,4]+'_c_'+name,img)\n",
        "        elif name[:4] == 'norm':\n",
        "            img = cv2.imread(original_path)[256-96:256+96,192-96:192+96]\n",
        "            img = cv2.resize(img,dsize=(224,224))\n",
        "            cv2.imwrite(destination_path+'no_mask/'+img_info_val.iloc[num,4]+'_a_'+name,img)\n",
        "            img = cv2.imread(original_path)[256-96:256+96,224-96:224+96]\n",
        "            img = cv2.resize(img,dsize=(224,224))\n",
        "            cv2.imwrite(destination_path+'no_mask/'+img_info_val.iloc[num,4]+'_b_'+name,img)\n",
        "            img = cv2.imread(original_path)[256-96:256+96,160-96:160+96]\n",
        "            img = cv2.resize(img,dsize=(224,224))\n",
        "            cv2.imwrite(destination_path+'no_mask/'+img_info_val.iloc[num,4]+'_c_'+name,img)\n",
        "            \n",
        "            img = cv2.imread(original_path)[:128,:128]\n",
        "            img = cv2.resize(img,dsize=(224,224))\n",
        "            cv2.imwrite(destination_path+'background/'+img_info_val.iloc[num,4]+'_a_'+name,img)\n",
        "            img = cv2.imread(original_path)[256-64:256+64,:128]\n",
        "            img = cv2.resize(img,dsize=(224,224))\n",
        "            cv2.imwrite(destination_path+'background/'+img_info_val.iloc[num,4]+'_b_'+name,img)\n",
        "            img = cv2.imread(original_path)[-128:,:128]\n",
        "            img = cv2.resize(img,dsize=(224,224))\n",
        "            cv2.imwrite(destination_path+'background/'+img_info_val.iloc[num,4]+'_c_'+name,img)\n",
        "            img = cv2.imread(original_path)[:128,192-64:192+64]\n",
        "            img = cv2.resize(img,dsize=(224,224))\n",
        "            cv2.imwrite(destination_path+'background/'+img_info_val.iloc[num,4]+'_d_'+name,img)\n",
        "            img = cv2.imread(original_path)[-128:,192-64:192+64]\n",
        "            img = cv2.resize(img,dsize=(224,224))\n",
        "            cv2.imwrite(destination_path+'background/'+img_info_val.iloc[num,4]+'_e_'+name,img)\n",
        "            img = cv2.imread(original_path)[:128,-128:]\n",
        "            img = cv2.resize(img,dsize=(224,224))\n",
        "            cv2.imwrite(destination_path+'background/'+img_info_val.iloc[num,4]+'_f_'+name,img)\n",
        "            img = cv2.imread(original_path)[256-64:256+64,-128:]\n",
        "            img = cv2.resize(img,dsize=(224,224))\n",
        "            cv2.imwrite(destination_path+'background/'+img_info_val.iloc[num,4]+'_g_'+name,img)\n",
        "            img = cv2.imread(original_path)[-128:,-128:]\n",
        "            img = cv2.resize(img,dsize=(224,224))\n",
        "            cv2.imwrite(destination_path+'background/'+img_info_val.iloc[num,4]+'_h_'+name,img)"
      ],
      "execution_count": 8,
      "outputs": [
        {
          "output_type": "stream",
          "text": [
            "100%|██████████| 270/270 [00:26<00:00, 10.27it/s]\n"
          ],
          "name": "stderr"
        }
      ]
    },
    {
      "cell_type": "code",
      "metadata": {
        "id": "pvaOMv279nlh",
        "colab": {
          "base_uri": "https://localhost:8080/"
        },
        "outputId": "983ef0f8-2163-4165-98e8-521073f3bad0"
      },
      "source": [
        "train_data = DataLoader.from_folder('/content/train_dataset')\n",
        "val_data = DataLoader.from_folder('/content/val_dataset')"
      ],
      "execution_count": 9,
      "outputs": [
        {
          "output_type": "stream",
          "text": [
            "INFO:tensorflow:Load image with size: 70470, num_label: 3, labels: background, mask, no_mask.\n",
            "INFO:tensorflow:Load image with size: 7830, num_label: 3, labels: background, mask, no_mask.\n"
          ],
          "name": "stdout"
        }
      ]
    },
    {
      "cell_type": "code",
      "metadata": {
        "id": "0iAQ81tV8kW3"
      },
      "source": [
        "custom = image_classifier.ModelSpec(uri='https://tfhub.dev/google/imagenet/mobilenet_v1_025_224/classification/5') # Total params: 478,807 | {'accuracy': 0.969220945083014}\n",
        "# custom = image_classifier.ModelSpec(uri='https://tfhub.dev/google/imagenet/mobilenet_v3_small_075_224/classification/5')\n",
        "# custom = image_classifier.ModelSpec(uri='https://tfhub.dev/tensorflow/efficientnet/lite0/classification/2')\n",
        "# custom = image_classifier.ModelSpec(uri='https://tfhub.dev/tensorflow/efficientnet/b0/classification/1')"
      ],
      "execution_count": 10,
      "outputs": []
    },
    {
      "cell_type": "code",
      "metadata": {
        "id": "oApV95wY6oPp",
        "colab": {
          "base_uri": "https://localhost:8080/"
        },
        "outputId": "956e390d-e3ca-42d1-bbea-edb3b16a7524"
      },
      "source": [
        "model = image_classifier.create(train_data=train_data,\n",
        "                                model_spec=custom,\n",
        "                                validation_data=val_data,\n",
        "                                batch_size=512,\n",
        "                                epochs=50,\n",
        "                                learning_rate=5e-4,\n",
        "                                shuffle=True\n",
        "                                )"
      ],
      "execution_count": 11,
      "outputs": [
        {
          "output_type": "stream",
          "text": [
            "INFO:tensorflow:Retraining the models...\n",
            "WARNING:tensorflow:Please add `keras.layers.InputLayer` instead of `keras.Input` to Sequential model. `keras.Input` is intended to be used by Functional model.\n"
          ],
          "name": "stdout"
        },
        {
          "output_type": "stream",
          "text": [
            "WARNING:tensorflow:Please add `keras.layers.InputLayer` instead of `keras.Input` to Sequential model. `keras.Input` is intended to be used by Functional model.\n"
          ],
          "name": "stderr"
        },
        {
          "output_type": "stream",
          "text": [
            "Model: \"sequential\"\n",
            "_________________________________________________________________\n",
            "Layer (type)                 Output Shape              Param #   \n",
            "=================================================================\n",
            "hub_keras_layer_v1v2 (HubKer (None, 1001)              475801    \n",
            "_________________________________________________________________\n",
            "dropout (Dropout)            (None, 1001)              0         \n",
            "_________________________________________________________________\n",
            "dense (Dense)                (None, 3)                 3006      \n",
            "=================================================================\n",
            "Total params: 478,807\n",
            "Trainable params: 3,006\n",
            "Non-trainable params: 475,801\n",
            "_________________________________________________________________\n",
            "None\n",
            "Epoch 1/50\n"
          ],
          "name": "stdout"
        },
        {
          "output_type": "stream",
          "text": [
            "/usr/local/lib/python3.7/dist-packages/tensorflow/python/keras/optimizer_v2/optimizer_v2.py:375: UserWarning: The `lr` argument is deprecated, use `learning_rate` instead.\n",
            "  \"The `lr` argument is deprecated, use `learning_rate` instead.\")\n"
          ],
          "name": "stderr"
        },
        {
          "output_type": "stream",
          "text": [
            "137/137 [==============================] - 100s 600ms/step - loss: 0.9957 - accuracy: 0.8270 - val_loss: 0.5159 - val_accuracy: 0.9557\n",
            "Epoch 2/50\n",
            "137/137 [==============================] - 81s 597ms/step - loss: 0.6505 - accuracy: 0.8944 - val_loss: 0.4556 - val_accuracy: 0.9669\n",
            "Epoch 3/50\n",
            "137/137 [==============================] - 82s 602ms/step - loss: 0.5750 - accuracy: 0.9115 - val_loss: 0.4264 - val_accuracy: 0.9708\n",
            "Epoch 4/50\n",
            "137/137 [==============================] - 82s 599ms/step - loss: 0.5277 - accuracy: 0.9214 - val_loss: 0.4081 - val_accuracy: 0.9691\n",
            "Epoch 5/50\n",
            "137/137 [==============================] - 80s 589ms/step - loss: 0.4936 - accuracy: 0.9299 - val_loss: 0.3984 - val_accuracy: 0.9745\n",
            "Epoch 6/50\n",
            "137/137 [==============================] - 80s 584ms/step - loss: 0.4704 - accuracy: 0.9384 - val_loss: 0.3921 - val_accuracy: 0.9730\n",
            "Epoch 7/50\n",
            "137/137 [==============================] - 80s 584ms/step - loss: 0.4522 - accuracy: 0.9446 - val_loss: 0.3830 - val_accuracy: 0.9746\n",
            "Epoch 8/50\n",
            "137/137 [==============================] - 80s 588ms/step - loss: 0.4398 - accuracy: 0.9478 - val_loss: 0.3819 - val_accuracy: 0.9750\n",
            "Epoch 9/50\n",
            "137/137 [==============================] - 80s 585ms/step - loss: 0.4292 - accuracy: 0.9538 - val_loss: 0.3750 - val_accuracy: 0.9764\n",
            "Epoch 10/50\n",
            "137/137 [==============================] - 80s 589ms/step - loss: 0.4219 - accuracy: 0.9550 - val_loss: 0.3736 - val_accuracy: 0.9764\n",
            "Epoch 11/50\n",
            "137/137 [==============================] - 80s 585ms/step - loss: 0.4140 - accuracy: 0.9591 - val_loss: 0.3782 - val_accuracy: 0.9747\n",
            "Epoch 12/50\n",
            "137/137 [==============================] - 80s 586ms/step - loss: 0.4084 - accuracy: 0.9610 - val_loss: 0.3807 - val_accuracy: 0.9741\n",
            "Epoch 13/50\n",
            "137/137 [==============================] - 80s 587ms/step - loss: 0.4046 - accuracy: 0.9629 - val_loss: 0.3713 - val_accuracy: 0.9764\n",
            "Epoch 14/50\n",
            "137/137 [==============================] - 80s 586ms/step - loss: 0.4009 - accuracy: 0.9647 - val_loss: 0.3773 - val_accuracy: 0.9737\n",
            "Epoch 15/50\n",
            "137/137 [==============================] - 80s 584ms/step - loss: 0.3975 - accuracy: 0.9654 - val_loss: 0.3716 - val_accuracy: 0.9751\n",
            "Epoch 16/50\n",
            "137/137 [==============================] - 80s 590ms/step - loss: 0.3953 - accuracy: 0.9660 - val_loss: 0.3683 - val_accuracy: 0.9773\n",
            "Epoch 17/50\n",
            "137/137 [==============================] - 80s 586ms/step - loss: 0.3935 - accuracy: 0.9670 - val_loss: 0.3687 - val_accuracy: 0.9767\n",
            "Epoch 18/50\n",
            "137/137 [==============================] - 80s 588ms/step - loss: 0.3913 - accuracy: 0.9673 - val_loss: 0.3690 - val_accuracy: 0.9762\n",
            "Epoch 19/50\n",
            "137/137 [==============================] - 80s 590ms/step - loss: 0.3890 - accuracy: 0.9693 - val_loss: 0.3677 - val_accuracy: 0.9770\n",
            "Epoch 20/50\n",
            "137/137 [==============================] - 80s 586ms/step - loss: 0.3884 - accuracy: 0.9695 - val_loss: 0.3677 - val_accuracy: 0.9766\n",
            "Epoch 21/50\n",
            "137/137 [==============================] - 80s 588ms/step - loss: 0.3869 - accuracy: 0.9695 - val_loss: 0.3672 - val_accuracy: 0.9775\n",
            "Epoch 22/50\n",
            "137/137 [==============================] - 80s 587ms/step - loss: 0.3862 - accuracy: 0.9697 - val_loss: 0.3682 - val_accuracy: 0.9766\n",
            "Epoch 23/50\n",
            "137/137 [==============================] - 81s 597ms/step - loss: 0.3854 - accuracy: 0.9700 - val_loss: 0.3670 - val_accuracy: 0.9772\n",
            "Epoch 24/50\n",
            "137/137 [==============================] - 81s 592ms/step - loss: 0.3855 - accuracy: 0.9702 - val_loss: 0.3672 - val_accuracy: 0.9775\n",
            "Epoch 25/50\n",
            "137/137 [==============================] - 80s 585ms/step - loss: 0.3846 - accuracy: 0.9708 - val_loss: 0.3669 - val_accuracy: 0.9770\n",
            "Epoch 26/50\n",
            "137/137 [==============================] - 80s 587ms/step - loss: 0.3836 - accuracy: 0.9714 - val_loss: 0.3670 - val_accuracy: 0.9770\n",
            "Epoch 27/50\n",
            "137/137 [==============================] - 80s 586ms/step - loss: 0.3825 - accuracy: 0.9715 - val_loss: 0.3673 - val_accuracy: 0.9781\n",
            "Epoch 28/50\n",
            "137/137 [==============================] - 80s 585ms/step - loss: 0.3822 - accuracy: 0.9721 - val_loss: 0.3693 - val_accuracy: 0.9758\n",
            "Epoch 29/50\n",
            "137/137 [==============================] - 80s 587ms/step - loss: 0.3818 - accuracy: 0.9711 - val_loss: 0.3679 - val_accuracy: 0.9762\n",
            "Epoch 30/50\n",
            "137/137 [==============================] - 80s 588ms/step - loss: 0.3820 - accuracy: 0.9713 - val_loss: 0.3750 - val_accuracy: 0.9733\n",
            "Epoch 31/50\n",
            "137/137 [==============================] - 80s 589ms/step - loss: 0.3809 - accuracy: 0.9721 - val_loss: 0.3677 - val_accuracy: 0.9762\n",
            "Epoch 32/50\n",
            "137/137 [==============================] - 80s 587ms/step - loss: 0.3815 - accuracy: 0.9719 - val_loss: 0.3668 - val_accuracy: 0.9770\n",
            "Epoch 33/50\n",
            "137/137 [==============================] - 80s 588ms/step - loss: 0.3807 - accuracy: 0.9722 - val_loss: 0.3666 - val_accuracy: 0.9773\n",
            "Epoch 34/50\n",
            "137/137 [==============================] - 80s 586ms/step - loss: 0.3812 - accuracy: 0.9720 - val_loss: 0.3668 - val_accuracy: 0.9777\n",
            "Epoch 35/50\n",
            "137/137 [==============================] - 80s 587ms/step - loss: 0.3797 - accuracy: 0.9728 - val_loss: 0.3667 - val_accuracy: 0.9779\n",
            "Epoch 36/50\n",
            "137/137 [==============================] - 80s 589ms/step - loss: 0.3801 - accuracy: 0.9717 - val_loss: 0.3673 - val_accuracy: 0.9762\n",
            "Epoch 37/50\n",
            "137/137 [==============================] - 80s 588ms/step - loss: 0.3803 - accuracy: 0.9725 - val_loss: 0.3665 - val_accuracy: 0.9776\n",
            "Epoch 38/50\n",
            "137/137 [==============================] - 80s 587ms/step - loss: 0.3801 - accuracy: 0.9725 - val_loss: 0.3665 - val_accuracy: 0.9775\n",
            "Epoch 39/50\n",
            "137/137 [==============================] - 80s 587ms/step - loss: 0.3798 - accuracy: 0.9730 - val_loss: 0.3665 - val_accuracy: 0.9773\n",
            "Epoch 40/50\n",
            "137/137 [==============================] - 80s 585ms/step - loss: 0.3796 - accuracy: 0.9729 - val_loss: 0.3671 - val_accuracy: 0.9773\n",
            "Epoch 41/50\n",
            "137/137 [==============================] - 80s 586ms/step - loss: 0.3798 - accuracy: 0.9711 - val_loss: 0.3671 - val_accuracy: 0.9772\n",
            "Epoch 42/50\n",
            "137/137 [==============================] - 80s 589ms/step - loss: 0.3789 - accuracy: 0.9727 - val_loss: 0.3666 - val_accuracy: 0.9776\n",
            "Epoch 43/50\n",
            "137/137 [==============================] - 80s 587ms/step - loss: 0.3801 - accuracy: 0.9723 - val_loss: 0.3669 - val_accuracy: 0.9768\n",
            "Epoch 44/50\n",
            "137/137 [==============================] - 80s 585ms/step - loss: 0.3798 - accuracy: 0.9725 - val_loss: 0.3674 - val_accuracy: 0.9780\n",
            "Epoch 45/50\n",
            "137/137 [==============================] - 80s 591ms/step - loss: 0.3786 - accuracy: 0.9738 - val_loss: 0.3665 - val_accuracy: 0.9779\n",
            "Epoch 46/50\n",
            "137/137 [==============================] - 80s 586ms/step - loss: 0.3790 - accuracy: 0.9728 - val_loss: 0.3711 - val_accuracy: 0.9753\n",
            "Epoch 47/50\n",
            "137/137 [==============================] - 80s 588ms/step - loss: 0.3790 - accuracy: 0.9729 - val_loss: 0.3675 - val_accuracy: 0.9762\n",
            "Epoch 48/50\n",
            "137/137 [==============================] - 80s 586ms/step - loss: 0.3794 - accuracy: 0.9719 - val_loss: 0.3664 - val_accuracy: 0.9771\n",
            "Epoch 49/50\n",
            "137/137 [==============================] - 80s 587ms/step - loss: 0.3793 - accuracy: 0.9727 - val_loss: 0.3673 - val_accuracy: 0.9764\n",
            "Epoch 50/50\n",
            "137/137 [==============================] - 80s 588ms/step - loss: 0.3791 - accuracy: 0.9727 - val_loss: 0.3681 - val_accuracy: 0.9755\n"
          ],
          "name": "stdout"
        }
      ]
    },
    {
      "cell_type": "code",
      "metadata": {
        "id": "OJIepkAK7nMB"
      },
      "source": [
        "config = QuantizationConfig.for_dynamic()"
      ],
      "execution_count": 12,
      "outputs": []
    },
    {
      "cell_type": "code",
      "metadata": {
        "id": "jCe_AYWu67oy",
        "colab": {
          "base_uri": "https://localhost:8080/"
        },
        "outputId": "d15b6b14-75cf-49b8-9803-4e5f27f20ca6"
      },
      "source": [
        "model.export(export_dir='/content/drive/MyDrive/한양대학교/부스트캠프 AI Tech/[P4] 모델 최적화/', quantization_config=config)"
      ],
      "execution_count": 13,
      "outputs": [
        {
          "output_type": "stream",
          "text": [
            "INFO:tensorflow:Assets written to: /tmp/tmpbx5u0b8v/assets\n"
          ],
          "name": "stdout"
        },
        {
          "output_type": "stream",
          "text": [
            "INFO:tensorflow:Assets written to: /tmp/tmpbx5u0b8v/assets\n"
          ],
          "name": "stderr"
        },
        {
          "output_type": "stream",
          "text": [
            "INFO:tensorflow:Label file is inside the TFLite model with metadata.\n"
          ],
          "name": "stdout"
        },
        {
          "output_type": "stream",
          "text": [
            "INFO:tensorflow:Label file is inside the TFLite model with metadata.\n"
          ],
          "name": "stderr"
        },
        {
          "output_type": "stream",
          "text": [
            "INFO:tensorflow:Saving labels in /tmp/tmpe87cf1mz/labels.txt\n"
          ],
          "name": "stdout"
        },
        {
          "output_type": "stream",
          "text": [
            "INFO:tensorflow:Saving labels in /tmp/tmpe87cf1mz/labels.txt\n"
          ],
          "name": "stderr"
        },
        {
          "output_type": "stream",
          "text": [
            "INFO:tensorflow:TensorFlow Lite model exported successfully: /content/drive/MyDrive/한양대학교/부스트캠프 AI Tech/[P4] 모델 최적화/model.tflite\n"
          ],
          "name": "stdout"
        },
        {
          "output_type": "stream",
          "text": [
            "INFO:tensorflow:TensorFlow Lite model exported successfully: /content/drive/MyDrive/한양대학교/부스트캠프 AI Tech/[P4] 모델 최적화/model.tflite\n"
          ],
          "name": "stderr"
        }
      ]
    },
    {
      "cell_type": "code",
      "metadata": {
        "id": "5x9X2CI0PotB",
        "colab": {
          "base_uri": "https://localhost:8080/"
        },
        "outputId": "52f86b09-b93b-4691-80b9-120c4233cfe1"
      },
      "source": [
        "model.evaluate_tflite('/content/drive/MyDrive/한양대학교/부스트캠프 AI Tech/[P4] 모델 최적화/model.tflite', val_data)"
      ],
      "execution_count": 14,
      "outputs": [
        {
          "output_type": "execute_result",
          "data": {
            "text/plain": [
              "{'accuracy': 0.969220945083014}"
            ]
          },
          "metadata": {
            "tags": []
          },
          "execution_count": 14
        }
      ]
    }
  ]
}